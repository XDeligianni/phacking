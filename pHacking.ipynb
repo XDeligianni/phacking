{
    "cells": [
        {
            "cell_type": "markdown",
            "metadata": {},
            "source": [
                "<!-- Kommentare sind moeglich mit HTML Kommentaren\n",
                "<!-- Based on knitr-minimal.Rmd on http://yihui.name/knitr/demo/minimal/ -->\n",
                "\n",
                "# MRI-Together 2021-https://mritogether.github.io/\n",
                "\n",
                "## A White Hat’s Guide to p-Hacking\n",
                "\n",
                "### Dr. Xeni Deligianni- University of Basel\n",
                "xeni.deligianni@unibas.ch\n",
                "https://github.com/XDeligianni\n",
                "\n",
                "Imagine, we have two data distributions, one the **controls** and one a distribution that we want to compare to the controls.\n",
                "This could be the quantitative values of a volunteers' group (controls=\"ctrl\"), let's call them **qmr** and\n",
                "the respective values of a different group e.g. patients (\"pat\") with a certain condition.\n",
                "\n",
                "Let's assume for now that the distributions are **normal** Gaussian distributions. \n",
                "So let's assume we checked the distributions and that BEFORE starting our analysis, we have a **hypothesis** that in disease presence qmr values are increased.\n",
                "And let's imagine we have estimated that we should measure and we measured under identical and ideal conditions **nr_s healthy controls** and **nr_s patients**. We consider these independent measurements.\n",
                "\n",
                "## Let' s agree on some definitions first\n",
                "\n",
                "**$\\alpha$**: Significance level.\n",
                "\n",
                "**p-value**:the probability of obtaining the observed difference, or one more extreme, if the null hypothesis is true. A p-value below **$\\alpha$** will lead to the null hypothesis being rejected.\n",
                "\n",
                "## Ready? Let's create some fictional data. \n",
                "\n",
                "Let's create two perfectly **normal distributions**. One with **mean** 40 and **standard deviation** (sd) 5 and one with mean 10 and standard deviation 2. \n",
                "And let's visualize at their distributions, as well as the distribution of their difference.\n",
                "We start with 1000 samples for each distribution.\n"
            ]
        },
        {
            "cell_type": "code",
            "execution_count": null,
            "metadata": {},
            "outputs": [],
            "source": [
                "library(ggplot2)# A great library for visualization\n",
                "library(viridisLite)\n",
                "library(viridis)#colorblind accessible\n",
                "\n",
                "#set.seed(2)#example, has to be set to produce same random distributions\n",
                "#qmr <-c(rnorm(1000, mean=10, sd=5),rnorm(1000, mean=40, sd=5))\n",
                "#qmr<-c(qmr,qmr[1001:2000]-qmr[1:1000])\n",
                "load('New_Data.RData')\n",
                "subj <- as.factor(c(rep(\"ctrl\",1000),rep(\"pat\",1000),rep(\"diff\",1000)))\n",
                "d.exp <- data.frame(qmr,subj)\n",
                "\n",
                "x_p<-d.exp[d.exp$subj=='pat',]$qmr\n",
                "bw_p <- 2 * IQR(x_p) / length(x_p)^(1/3)#decide for the nr of bins-Friedman-Diaconis rule\n",
                "x_c<-d.exp[d.exp$subj=='ctrl',]$qmr\n",
                "bw_c <- 2 * IQR(x_c) / length(x_c)^(1/3)#decide for the nr of bins-Friedman-Diaconis rule\n",
                "\n",
                "ggplot(d.exp,aes(x=qmr,fill =subj)) + \n",
                "  geom_histogram(binwidth = 1,alpha=0.5,position='identity')+scale_fill_viridis_d()\n"
            ]
        },
        {
            "cell_type": "markdown",
            "metadata": {},
            "source": [
                "## That looks clear. Doesn't it? Let's also look at the boxplot visualization.\n",
                "\n"
            ]
        },
        {
            "cell_type": "code",
            "execution_count": null,
            "metadata": {},
            "outputs": [],
            "source": [
                "library(ggplot2)# A great library for visualization\n",
                "library(viridis)\n",
                "load('New_Data.RData')\n",
                "##set.seed(2)\n",
                "#qmr <-c(rnorm(1000, mean=10, sd=5),rnorm(1000, mean=40, sd=5))\n",
                "#subj <- c(rep(\"ctrl\",1000),rep(\"pat\",1000),rep(\"diff\",1000))\n",
                "#d.exp <- data.frame(qmr,subj)\n",
                "x<-d.exp[d.exp$subj=='pat',]$qmr\n",
                "bw <- 2 * IQR(x) / length(x)^(1/3)#decide for the nr of bins-Friedman-Diaconis rule\n",
                "ggplot(data = d.exp,mapping = aes(y = qmr,x = subj, fill=subj)) + geom_boxplot()+scale_fill_viridis_d()\n",
                "#colorblind accessible colors\n"
            ]
        },
        {
            "cell_type": "markdown",
            "metadata": {},
            "source": [
                "## So what's next? What result would we get from a t-test?\n",
                "\n",
                "What would we get by testing whether there is a difference in these 2 distributions and if the difference is different than zero.\n",
                "And let's see what would happen if we wouldn't have 1000 samples for each distribution, but less. \n",
                "Try to change the **nr_s** and plot. \n"
            ]
        },
        {
            "cell_type": "code",
            "execution_count": null,
            "metadata": {},
            "outputs": [],
            "source": [
                "load('New_Data.RData')\n",
                "#set.seed(2)\n",
                "#qmr <-c(rnorm(1000, mean=10, sd=5),rnorm(1000, mean=40, sd=5))\n",
                "#subj <- c(rep(\"ctrl\",1000),rep(\"pat\",1000),rep(\"diff\",1000))\n",
                "#d.exp <- data.frame(qmr,subj)\n",
                "\n",
                "# Experiment by choosing different number of samples (1000/50/25/15/5)for each distribution\n",
                "nr_s<-5\n",
                "\n",
                "p_series<-vector()\n",
                "for (i in 1:100) {\n",
                "  sample_rows_ctrl<-sample(nrow(d.exp[d.exp$subj==\"ctrl\",]),nr_s)\n",
                "  sample_rows_pat<-1000+sample(nrow(d.exp[d.exp$subj==\"pat\",]),nr_s)\n",
                "  d.exp_sub<-rbind(d.exp[sample_rows_ctrl,],d.exp[sample_rows_pat,])\n",
                "  p_Res<-t.test(d.exp_sub[d.exp_sub$subj==\"pat\",]$qmr, d.exp_sub[d.exp_sub$subj==\"ctrl\",]$qmr, paired = FALSE,\n",
                "alternative = \"two.sided\", conf.level = 0.95,var.equal=TRUE)\n",
                "  p_series [i]<-p_Res$p.value\n",
                "}\n",
                "plot(p_series,ylim=c(0,0.06))\n",
                "abline(h=0.05)\n"
            ]
        },
        {
            "cell_type": "markdown",
            "metadata": {},
            "source": [
                "###So let's sum up and continue\n",
                "Let's look at one of the subdatasets with 8 samples per distribution\n"
            ]
        },
        {
            "cell_type": "code",
            "execution_count": null,
            "metadata": {},
            "outputs": [],
            "source": [
                "library(ggplot2)# A great library for visualization\n",
                "library(viridis)\n",
                "library(ggpubr)\n",
                "load('New_Data_sub.RData')\n",
                "#This dataset contains 8 samples of each distribution\n",
                "\n",
                "####### Histograms\n",
                "x_p<-d.exp_sub[d.exp_sub$subj=='pat',]$qmr\n",
                "bw_p <- 2 * IQR(x) / length(x)^(1/3)#decide for the nr of bins-Friedman-Diaconis rule\n",
                "x_c<-d.exp_sub[d.exp_sub$subj=='ctrl',]$qmr\n",
                "bw_c <- 2 * IQR(x) / length(x)^(1/3)#decide for the nr of bins-Friedman-Diaconis rule\n",
                "\n",
                "####### Histograms\n",
                "a<-ggplot(d.exp_sub,aes(x=qmr,fill =subj)) + \n",
                "  geom_histogram(binwidth=bw_c,alpha=0.5,position='identity')+scale_fill_viridis_d()\n",
                "####### Boxplots\n",
                "b<-ggplot(data = d.exp_sub,mapping = aes(y = qmr,x = subj, fill=subj)) + geom_boxplot()+scale_fill_viridis_d()\n",
                "\n",
                "ggarrange(a, b, labels = c(\"A\",\"B\"),\n",
                "                    ncol = 2, nrow = 1)\n",
                "#### t-test\n",
                "res.tt<-t.test(d.exp_sub[d.exp_sub$subj==\"pat\",]$qmr, d.exp_sub[d.exp_sub$subj==\"ctrl\",]$qmr, paired = FALSE,\n",
                "alternative = \"two.sided\", conf.level = 0.95,var.equal=TRUE)\n",
                "\n",
                "print(c(\"p-value\",res.tt$p.value))\n"
            ]
        },
        {
            "cell_type": "markdown",
            "metadata": {},
            "source": [
                "### But what if the differences were less clear?\n",
                "\n",
                "## **Trap Nr. 1**: Be real! 5 data points is not 5000\n",
                "\n",
                "Topic 1: The **number of samples** is important.\n",
                "What if we have 15 samples of some less different data. Let's get them & repeat the steps\n",
                "\n",
                "p-values change but our difference is still constantly higher than 0. \n",
                "## But what if things are not so clear?\n",
                "\n",
                "Let's change distributions, bring the mean values closer and increase the standard deviation.\n",
                "Keeping the assumptions for t-test, we keep standard deviation the same.\n",
                "\n",
                "Here, you can try again to change the number of samples (nr_s) of each distribution and observe the effect:\n",
                "1) on the  distributions, 2) on the t-test performed once.\n",
                "TO DO: Change the nr_s and observe.\n"
            ]
        },
        {
            "cell_type": "code",
            "execution_count": null,
            "metadata": {},
            "outputs": [],
            "source": [
                "library(ggplot2)# A great library for visualization\n",
                "library(viridis)\n",
                "library(ggpubr)\n",
                "library(effsize)\n",
                "\n",
                "# Randomly choose number of samples (1000/50/25/15/5) \n",
                "nr_s<-1000 #TRY TO CHANGE THIS NUMBER\n",
                "#Later you can also go ahead and modify the mean values and study the effect\n",
                "set.seed(1000)\n",
                "qmr <-c(rnorm(nr_s, mean=25.5, sd=10),rnorm(nr_s, mean=34.2, sd=10))\n",
                "qmr<-c(qmr,qmr[1:nr_s]-qmr[(nr_s+1):(2*nr_s)])\n",
                "subj <- c(rep('ctrl',nr_s),rep('pat',nr_s),rep(\"diff\",nr_s))\n",
                "d.exp <- data.frame(qmr,subj)\n",
                "####### Histograms\n",
                "x_p<-d.exp[d.exp$subj=='pat',]$qmr\n",
                "bw_p <- 2 * IQR(x_p) / length(x_p)^(1/3)#decide for the nr of bins-Friedman-Diaconis rule\n",
                "x_c<-d.exp[d.exp$subj=='ctrl',]$qmr\n",
                "bw_c <- 2 * IQR(x_c) / length(x_c)^(1/3)#decide for the nr of bins-Friedman-Diaconis rule\n",
                "\n",
                "####### Histograms\n",
                "a<-ggplot(d.exp,aes(x=qmr,fill =subj)) + \n",
                "  geom_histogram(binwidth = 3,alpha=0.5,position='identity')+scale_fill_viridis_d()\n",
                "b<-ggplot(d.exp[d.exp$subj==\"diff\",],aes(x=qmr,fill =subj)) + \n",
                "  geom_histogram(binwidth = 3,alpha=0.5,position='identity')+scale_fill_viridis_d()\n",
                "####### Boxplots\n",
                "c<-ggplot(data = d.exp,mapping = aes(y = qmr,x = subj, fill=subj)) + geom_boxplot()+scale_fill_viridis_d()+geom_point()\n",
                "\n",
                "ggarrange(a, b,c, labels = c(\"A\",\"B\",\"C\"),\n",
                "                    ncol = 2, nrow = 2)\n",
                "#### t-test\n",
                "res.tt<-t.test(d.exp[d.exp$subj==\"pat\",]$qmr, d.exp[d.exp$subj==\"ctrl\",]$qmr, paired = FALSE,\n",
                "alternative = \"two.sided\", conf.level = 0.95,var.equal=TRUE)\n",
                "\n",
                "res.cd<-cohen.d(d.exp[d.exp$subj==\"pat\",]$qmr, d.exp[d.exp$subj==\"ctrl\",]$qmr)\n",
                "\n",
                "print(c(\"res.tt\",res.tt$p.value))\n",
                "print(c(\"estimate cohend\",res.cd$estimate))\n"
            ]
        },
        {
            "cell_type": "markdown",
            "metadata": {},
            "source": [
                "So let's draw different number of samples **nr_s** (from the bigger normal distribution) and let's look at the p_value.\n",
                "Let's also look how the test result change, if we draw again nr_s new samples!\n",
                "TO DO: change the nr_s and observe.\n"
            ]
        },
        {
            "cell_type": "code",
            "execution_count": null,
            "metadata": {},
            "outputs": [],
            "source": [
                "library(effsize)\n",
                "load('Difficult_Data.RData')\n",
                "nr_s<-5\n",
                "\n",
                "p_series<-vector()\n",
                "cohenD<-vector()\n",
                "for (i in 1:100) {\n",
                "  sample_rows_ctrl<-sample(nrow(d.exp[d.exp$subj==\"ctrl\",]),nr_s)\n",
                "  sample_rows_pat<-1000+sample(nrow(d.exp[d.exp$subj==\"pat\",]),nr_s)\n",
                "  d.exp_sub<-rbind(d.exp[sample_rows_ctrl,],d.exp[sample_rows_pat,])\n",
                "  p_Res<-t.test(d.exp_sub[d.exp_sub$subj==\"pat\",]$qmr, d.exp_sub[d.exp_sub$subj==\"ctrl\",]$qmr, paired = FALSE,\n",
                "alternative = \"two.sided\", conf.level = 0.95,var.equal=TRUE)\n",
                "  rcohen<-cohen.d(d.exp_sub[d.exp_sub$subj==\"pat\",]$qmr, d.exp_sub[d.exp_sub$subj==\"ctrl\",]$qmr)\n",
                "  p_series [i]<-p_Res$p.value\n",
                "  cohenD[i]<-rcohen$estimate\n",
                "}\n",
                "par(mfrow=c(2,2))\n",
                "plot(p_series,ylim=c(0,1))\n",
                "abline(h=0.05,col=\"red\")\n",
                "hist(p_series,breaks=30)\n",
                "abline(v=0.05,col=\"red\")\n",
                "plot(cohenD)\n",
                "boxplot(qmr~subj,data=d.exp)\n",
                "abline(h=0.0,col=\"red\")\n"
            ]
        },
        {
            "cell_type": "markdown",
            "metadata": {},
            "source": [
                "### What can we do?\n",
                "\n",
                "Decide in advance the sample size we need! If we don' t know maybe it is an exploratory analysis after all.\n",
                "\n",
                "## **Trap Nr. 2**: Step 1: Look at your data\n",
                "\n",
                "### Not all datasets are normal, t-test is not for everything!\n",
                "The same way as mean is not always the proper statistic.\n",
                "Let's now look at some different distributions. \n",
                "Let's start with 1000 samples and try to reduce it!\n",
                "TO DO: change the nr_s and observe.\n"
            ]
        },
        {
            "cell_type": "code",
            "execution_count": null,
            "metadata": {},
            "outputs": [],
            "source": [
                "library(ggplot2)# A great library for visualization\n",
                "library(viridis)\n",
                "library(ggpubr)\n",
                "library(effsize)\n",
                "# TO DO: Randomly choose 1000/5000/100\n",
                "nr_s<-1000\n",
                "set.seed(2000)\n",
                "# Generate a random negative binomial distribution\n",
                "qmr <-c(15+250*rexp(1000,25),35-250*rexp(1000,25))\n",
                "qmr<-c(qmr,qmr[1:nr_s]-qmr[(nr_s+1):(2*nr_s)])\n",
                "subj <- c(rep('ctrl',nr_s),rep('pat',nr_s),rep(\"diff\",nr_s))\n",
                "d.exp <- data.frame(qmr,subj)\n",
                "####### Histograms\n",
                "x_p<-d.exp[d.exp$subj=='pat',]$qmr\n",
                "bw_p <- 2 * IQR(x_p) / length(x_p)^(1/3)#decide for the nr of bins-Friedman-Diaconis rule\n",
                "x_c<-d.exp[d.exp$subj=='ctrl',]$qmr\n",
                "bw_c <- 2 * IQR(x_c) / length(x_c)^(1/3)#decide for the nr of bins-Friedman-Diaconis rule\n",
                "\n",
                "####### Histograms\n",
                "a<-ggplot(d.exp,aes(x=qmr,fill =subj)) + \n",
                "  geom_histogram(binwidth=bw_p,alpha=0.5,position='identity')+scale_fill_viridis_d()\n",
                "b<-ggplot(d.exp[d.exp$subj==\"diff\",],aes(x=qmr,fill =subj)) + \n",
                "  geom_histogram(binwidth=bw_p,alpha=0.5,position='identity')+scale_fill_viridis_d()\n",
                "####### Boxplots\n",
                "c<-ggplot(data = d.exp,mapping = aes(y = qmr,x = subj, fill=subj)) + geom_boxplot()+scale_fill_viridis_d()+geom_point()\n",
                "\n",
                "ggarrange(a, b,c, labels = c(\"A\",\"B\",\"C\"),\n",
                "                    ncol = 2, nrow = 2)\n",
                "#### t-test\n",
                "res.tt<-t.test(d.exp[d.exp$subj==\"pat\",]$qmr, d.exp[d.exp$subj==\"ctrl\",]$qmr, paired = FALSE,\n",
                "alternative = \"two.sided\", conf.level = 0.95)\n",
                "res.wt<-wilcox.test(d.exp[d.exp$subj==\"pat\",]$qmr, d.exp[d.exp$subj==\"ctrl\",]$qmr, paired = FALSE,alternative = \"two.sided\")\n",
                "\n",
                "print(c(\"ttest pvalue\",res.tt$p.value))\n",
                "print(c(\"res.wt\",res.wt$p.value))\n"
            ]
        },
        {
            "cell_type": "markdown",
            "metadata": {},
            "source": [
                "Let's load an example of these distributions, and experiment with taking samples **nr_s** and observe the effect.\n",
                "TO DO: Change the \"nr_s\" and observe the plots\n"
            ]
        },
        {
            "cell_type": "code",
            "execution_count": null,
            "metadata": {},
            "outputs": [],
            "source": [
                "load('Not_normal_Distr.RData')\n",
                "\n",
                "nr_s<-4\n",
                "\n",
                "p_series<-vector()\n",
                "cohenD<-vector()\n",
                "for (i in 1:100) {\n",
                "  sample_rows_ctrl<-sample(nrow(d.exp[d.exp$subj==\"ctrl\",]),nr_s)\n",
                "  sample_rows_pat<-1000+sample(nrow(d.exp[d.exp$subj==\"pat\",]),nr_s)\n",
                "  d.exp_sub<-rbind(d.exp[sample_rows_ctrl,],d.exp[sample_rows_pat,])\n",
                "  p_Res<-t.test(d.exp_sub[d.exp_sub$subj==\"pat\",]$qmr, d.exp_sub[d.exp_sub$subj==\"ctrl\",]$qmr, paired = FALSE,\n",
                "alternative = \"two.sided\", conf.level = 0.95,var.equal=FALSE)\n",
                "  rcohen<-cohen.d(d.exp_sub[d.exp_sub$subj==\"pat\",]$qmr, d.exp_sub[d.exp_sub$subj==\"ctrl\",]$qmr)\n",
                "  p_series [i]<-p_Res$p.value\n",
                "  cohenD[i]<-rcohen$estimate\n",
                "}\n",
                "par(mfrow=c(2,2))\n",
                "plot(p_series,ylim=c(0,1))\n",
                "abline(h=0.05,col=\"red\")\n",
                "hist(p_series,breaks=30)\n",
                "abline(v=0.05,col=\"red\")\n",
                "plot(cohenD)\n",
                "boxplot(qmr~subj,data=d.exp)\n",
                "abline(h=0.0,col=\"red\")\n"
            ]
        },
        {
            "cell_type": "markdown",
            "metadata": {},
            "source": [
                "### Trap 3: Just one more experiment then!It almost looks good. Let's repeat it. Trap of adding data on marginal distributions. \n",
                "\n"
            ]
        },
        {
            "cell_type": "code",
            "execution_count": null,
            "metadata": {},
            "outputs": [],
            "source": [
                "load('Adding_values.RData')\n",
                "d.extra<-d.exp_s\n",
                "\n",
                "d.exp_w_Points<-rbind(d.exp_limit,data.frame(qmr=18,subj=\"ctrl\"),data.frame(qmr=40,subj=\"pat\"))\n",
                "\n",
                "a<-ggplot(d.exp_w_Points,aes(x=qmr,fill =subj)) + \n",
                "  geom_histogram(binwidth = 3,alpha=0.5,position='identity')+scale_fill_viridis_d()\n",
                "b<-ggplot(d.exp_w_Points[d.exp_w_Points$subj==\"diff\",],aes(x=qmr,fill =subj)) + \n",
                "  geom_histogram(binwidth = 3,alpha=0.5,position='identity')+scale_fill_viridis_d()\n",
                "####### Boxplots\n",
                "c<-ggplot(data =d.exp_w_Points,mapping = aes(y = qmr,x = subj, fill=subj)) + geom_boxplot()+scale_fill_viridis_d()+geom_point()+ggtitle(\"with 2 extra points\")\n",
                "\n",
                "d<-ggplot(data =d.exp_limit,mapping = aes(y = qmr,x = subj, fill=subj)) + geom_boxplot()+scale_fill_viridis_d()+geom_point()+ggtitle(\"bef the 2 extra points\")\n",
                "\n",
                "ggarrange(a, b,c, d,labels = c(\"A\",\"B\",\"C\",\"D\"),\n",
                "                    ncol = 2, nrow = 2)\n",
                "\n",
                "res_w_Points<-t.test(d.exp_w_Points[d.exp_w_Points$subj==\"pat\",]$qmr, d.exp_w_Points[d.exp_w_Points$subj==\"ctrl\",]$qmr, paired = FALSE,\n",
                "alternative = \"two.sided\", conf.level = 0.95,var.equal=TRUE)\n",
                "res_wo_Points<-t.test(d.exp_limit[d.exp_limit$subj==\"pat\",]$qmr, d.exp_limit[d.exp_limit$subj==\"ctrl\",]$qmr, paired = FALSE,\n",
                "alternative = \"two.sided\", conf.level = 0.95,var.equal=TRUE)\n",
                "\n",
                "print(c(\"p-value with 2 extra points\",res_w_Points$p.value))\n",
                "print(c(\"p-value without points\",res_wo_Points$p.value))\n"
            ]
        },
        {
            "cell_type": "markdown",
            "metadata": {},
            "source": [
                "## **Trap Nr. 3**: This one looks wrong. Let's remove it\n",
                "##Topic: post-hoc data selection, Keep adjusting the data collection removing outliers, 1) use different threshold, 2) remove outliers and test till you get you result\n"
            ]
        },
        {
            "cell_type": "code",
            "execution_count": null,
            "metadata": {},
            "outputs": [],
            "source": [
                "load('Removing_values.RData')\n",
                "a<-ggplot(d.exp_w_Outl,aes(x=qmr,fill =subj)) + \n",
                "  geom_histogram(binwidth = 3,alpha=0.5,position='identity')+scale_fill_viridis_d()\n",
                "b<-ggplot(d.exp_w_Outl[d.exp_w_Outl$subj==\"diff\",],aes(x=qmr,fill =subj)) + \n",
                "  geom_histogram(binwidth = 3,alpha=0.5,position='identity')+scale_fill_viridis_d()\n",
                "####### Boxplots\n",
                "c<-ggplot(data =d.exp_w_Outl,mapping = aes(y = qmr,x = subj, fill=subj)) + geom_boxplot()+scale_fill_viridis_d()+geom_point()+ggtitle(\"With Outliers\")\n",
                "\n",
                "d<-ggplot(data =d.exp,mapping = aes(y = qmr,x = subj, fill=subj)) + geom_boxplot()+scale_fill_viridis_d()+geom_point()+ggtitle(\"Without Outliers\")\n",
                "\n",
                "ggarrange(a, b,c, d,labels = c(\"A\",\"B\",\"C\",\"D\"),\n",
                "                    ncol = 2, nrow = 2)\n",
                "\n",
                "d.extra<-d.exp_w_Outl\n",
                "\n",
                "#t.test(d.exp_limit[d.exp_limit$subj==\"pat\",]$qmr, d.exp_limit[d.exp_limit$subj==\"ctrl\",]$qmr, paired = FALSE,\n",
                "#alternative = \"two.sided\", conf.level = 0.95,var.equal=TRUE)\n",
                " \n",
                "res_wo_Outlier<-t.test(d.exp[d.exp$subj==\"pat\",]$qmr, d.exp[d.exp$subj==\"ctrl\",]$qmr, paired = FALSE,\n",
                "alternative = \"two.sided\", conf.level = 0.95,var.equal=TRUE)\n",
                "\n",
                "res_w_Outlier<-t.test(d.exp_w_Outl[d.exp_w_Outl$subj==\"pat\",]$qmr, d.exp_w_Outl[d.exp_w_Outl$subj==\"ctrl\",]$qmr, paired = FALSE,\n",
                "alternative = \"two.sided\", conf.level = 0.95,var.equal=TRUE)\n",
                "\n",
                "print(c(\"p-value wo Outliers:\",res_wo_Outlier$p.value,res_w_Outlier$p.value))\n",
                "print(c(\"p-value with Outliers:\",res_w_Outlier$p.value))\n"
            ]
        },
        {
            "cell_type": "markdown",
            "metadata": {},
            "source": [
                "## **Trap Nr. 4**: Problem of repeated sequential testing\n",
                "### Bonferroni and other corrections\n"
            ]
        },
        {
            "cell_type": "code",
            "execution_count": null,
            "metadata": {},
            "outputs": [],
            "source": [
                "library(ggplot2)# A great library for visualization\n",
                "library(viridis)#For the colormap\n",
                "library(ggpubr)#For multiple subplots in ggplot\n",
                "library(effsize)\n",
                "# Randomly choose number of samples (1000/50/25/15/5) \n",
                "#nr_s<-15\n",
                "#sample_rows<-sample(nrow(iris),nr_s)\n",
                "#d.subiris<-iris[sample_rows,]\n",
                "load('Subiris.RData')\n",
                "#Later you can also go ahead and modify all values and study the effect\n",
                "#Let's assume I measured 8 different parameters\n",
                "#Here we will use a default r dataset\n",
                "library(datasets)\n",
                "data(\"iris\")\n",
                "summary(iris)\n",
                "\n",
                "### Boxplots\n",
                "a<-ggplot(data = d.subiris,mapping = aes(y = Sepal.Length,x = Species, fill=Species)) + geom_boxplot()+scale_fill_viridis_d()+geom_point()\n",
                "b<-ggplot(data = d.subiris,mapping = aes(y = Sepal.Width,x = Species, fill=Species)) + geom_boxplot()+scale_fill_viridis_d()+geom_point()\n",
                "c<-ggplot(data = d.subiris,mapping = aes(y = Petal.Length,x = Species, fill= Species)) + geom_boxplot()+scale_fill_viridis_d()+geom_point()\n",
                "d<-ggplot(data = d.subiris,mapping = aes(y = Petal.Width,x = Species, fill=Species)) + geom_boxplot()+scale_fill_viridis_d()+geom_point()\n",
                "#######\n",
                "ggarrange(a,b,c,d, labels = c(\"A\",\"B\",\"C\",\"D\"),\n",
                "          ncol = 2, nrow = 2)\n",
                "#cohen.d(d.exp[d.exp$subj==\"pat\",]$qmr, d.exp[d.exp$subj==\"ctrl\",]$qmr)\n"
            ]
        },
        {
            "cell_type": "markdown",
            "metadata": {},
            "source": [
                "\n",
                "\n"
            ]
        },
        {
            "cell_type": "code",
            "execution_count": null,
            "metadata": {},
            "outputs": [],
            "source": [
                "load('Subiris.RData')\n",
                "#### t-test\n",
                "#res.1<-t.test(d.subiris[d.subiris$Species==\"setosa\",]$Petal.Length, d.subiris[d.subiris$Species==\"versicolor\",]$Petal.Length, paired = FALSE,\n",
                "#alternative = \"two.sided\", conf.level = 0.95,var.equal=FALSE)\n",
                "#res.2<-t.test(d.subiris[d.subiris$Species==\"setosa\",]$Petal.Width, d.subiris[d.subiris$Species==\"versicolor\",]$Petal.Width, paired = FALSE,\n",
                "#alternative = \"two.sided\", conf.level = 0.95,var.equal=FALSE)\n",
                "#res.3<-t.test(d.subiris[d.subiris$Species==\"setosa\",]$Sepal.Width, d.subiris[d.subiris$Species==\"versicolor\",]$Sepal.Width, paired = FALSE,\n",
                "#alternative = \"two.sided\", conf.level = 0.95,var.equal=FALSE)\n",
                "#res.4<-t.test(d.subiris[d.subiris$Species==\"setosa\",]$Sepal.Length, d.subiris[d.subiris$Species==\"versicolor\",]$Sepal.Width, paired = FALSE,\n",
                "#alternative = \"two.sided\", conf.level = 0.95,var.equal=FALSE)\n",
                "#res.5<-t.test(d.subiris[d.subiris$Species==\"setosa\",]$Sepal.Length, d.subiris[d.subiris$Species==\"virginica\",]$Sepal.Width,paired=FALSE,\n",
                "#alternative = \"two.sided\", conf.level = 0.95,var.equal=FALSE)\n",
                "#res.6<-t.test(d.subiris[d.subiris$Species==\"setosa\",]$Sepal.Length, d.subiris[d.subiris$Species==\"virginica\",]$Sepal.Width, paired = FALSE,\n",
                "#alternative = \"two.sided\", conf.level = 0.95,var.equal=FALSE)\n",
                "#res.7<-t.test(d.subiris[d.subiris$Species==\"setosa\",]$Sepal.Length, d.subiris[d.subiris$Species==\"virginica\",]$Sepal.Width, paired = FALSE,\n",
                "#alternative = \"two.sided\", conf.level = 0.95,var.equal=FALSE)\n",
                "#res.8<-t.test(d.subiris[d.subiris$Species==\"setosa\",]$Sepal.Length, d.subiris[d.subiris$Species==\"virginica\",]$Sepal.Width, paired = FALSE,\n",
                "#alternative = \"two.sided\", conf.level = 0.95,var.equal=FALSE)\n",
                "#res.9<-t.test(d.subiris[d.subiris$Species==\"versicolor\",]$Sepal.Length, d.subiris[d.subiris$Species==\"virginica\",]$Sepal.Width, paired = FALSE,\n",
                "#alternative = \"two.sided\", conf.level = 0.95,var.equal=FALSE)\n",
                "#res.10<-t.test(d.subiris[d.subiris$Species==\"versicolor\",]$Sepal.Length, d.subiris[d.subiris$Species==\"virginica\",]$Sepal.Width, paired = FALSE,\n",
                "#alternative = \"two.sided\", conf.level = 0.95,var.equal=FALSE)\n",
                "#res.11<-t.test(d.subiris[d.subiris$Species==\"versicolor\",]$Sepal.Length, d.subiris[d.subiris$Species==\"virginica\",]$Sepal.Width, paired = FALSE,\n",
                "#alternative = \"two.sided\", conf.level = 0.95,var.equal=FALSE)\n",
                "#res.12<-t.test(d.subiris[d.subiris$Species==\"versicolor\",]$Sepal.Length, d.subiris[d.subiris$Species==\"virginica\",]$Sepal.Width, paired = FALSE,\n",
                "#alternative = \"two.sided\", conf.level = 0.95,var.equal=FALSE)\n",
                "p_no_corr<-(c(res.1$p.value,res.2$p.value,res.3$p.value,res.4$p.value,res.5$p.value,res.6$p.value,res.7$p.value,res.8$p.value,res.9$p.value,res.10$p.value,res.11$p.value,res.12$p.value))\n",
                "p_adjusted<-p.adjust(p_no_corr, method = \"bonferroni\", n = length(p_no_corr))\n",
                "\n",
                "plot(p_no_corr,ylim=c(0,1.2))\n",
                "lines(p_adjusted,lty=2)\n"
            ]
        },
        {
            "cell_type": "markdown",
            "metadata": {},
            "source": [
                "## **Trap Nr. 5**: POST HOC hypothesis\n",
                "### Be ware of one-sided tests,\n",
                "\n",
                "### Check the assumptions: (different variation, reaching normality)\n",
                "TO DO: alternate between the 2 datasets\n"
            ]
        },
        {
            "cell_type": "code",
            "execution_count": null,
            "metadata": {},
            "outputs": [],
            "source": [
                "#Option 1\n",
                "#load('Adding_values.RData')\n",
                "#Option 2\n",
                "load('Difficult_Data.RData')\n",
                "d.exp_limit<-d.exp\n",
                "#\n",
                "boxplot(qmr~subj,data=d.exp)\n",
                "\n",
                "res.twosided<-t.test(d.exp_limit[d.exp_limit$subj==\"pat\",]$qmr, d.exp_limit[d.exp_limit$subj==\"ctrl\",]$qmr, paired = FALSE,\n",
                "alternative = \"two.sided\", conf.level = 0.95,var.equal=TRUE)\n",
                "res.less<-t.test(d.exp_limit[d.exp_limit$subj==\"pat\",]$qmr, d.exp_limit[d.exp_limit$subj==\"ctrl\",]$qmr, paired = FALSE,\n",
                "alternative = \"less\", conf.level = 0.95,var.equal=TRUE)\n",
                "res.greater<-t.test(d.exp_limit[d.exp_limit$subj==\"pat\",]$qmr, d.exp_limit[d.exp_limit$subj==\"ctrl\",]$qmr, paired = FALSE,\n",
                "alternative = \"greater\", conf.level = 0.95,var.equal=TRUE)\n",
                "\n",
                "c(res.twosided$p.value,res.less$p.value,res.greater$p.value)\n"
            ]
        },
        {
            "cell_type": "markdown",
            "metadata": {},
            "source": [
                "\n",
                "##References\n"
            ]
        },
        {
            "cell_type": "code",
            "execution_count": null,
            "metadata": {},
            "outputs": [],
            "source": [
                "library(RefManageR)\n",
                "mybib <- RefManageR::ReadBib(\"pHacking.bib\", check = FALSE) \n",
                "mybib\n"
            ]
        },
        {
            "cell_type": "markdown",
            "metadata": {},
            "source": [
                "\n",
                "\n"
            ]
        }
    ],
    "metadata": {
        "anaconda-cloud": "",
        "kernelspec": {
            "display_name": "R",
            "langauge": "R",
            "name": "ir"
        },
        "language_info": {
            "codemirror_mode": "r",
            "file_extension": ".r",
            "mimetype": "text/x-r-source",
            "name": "R",
            "pygments_lexer": "r",
            "version": "3.4.1"
        }
    },
    "nbformat": 4,
    "nbformat_minor": 1
}
