{
 "cells": [
  {
   "cell_type": "markdown",
   "metadata": {},
   "source": [
    "<!-- Kommentare sind moeglich mit HTML Kommentaren\n",
    "<!-- Based on knitr-minimal.Rmd on http://yihui.name/knitr/demo/minimal/ -->\n",
    "\n",
    "# MRI-Together 2021-https://mritogether.github.io/\n",
    "\n",
    "## A White Hat’s Guide to P-Hacking\n",
    "\n",
    "### Dr. Xeni Deligianni- University of Basel-xeni.deligianni@unibas.ch\n",
    "\n",
    "## This tutorial is released under a CC-BY license.\n",
    "\n",
    "We have two data distributions, one the **controls** and one a distribution that we want to compare to the control.\n",
    "In real scientific life this could be the quantitative values of a controlled group, let's call them **qmr** and\n",
    "respective values of a different group e.g. patients with a certain condition.\n",
    "\n",
    "Let's assume for now that the distributions are **normal** Gaussian distributions. So let's assume we checked the distributions.\n",
    "And let' s assume, that BEFORE starting our analysis, we have a **hypothesis** that in disease presence T42 values are increased.\n",
    "And let's imagine we have estimated that we should measure and we measured under identical and ideal conditions **50 healthy controls** and **50 patients**.\n",
    "\n",
    "## Let' s agree on some definitions first\n",
    "\n",
    "**$\\alpha$**: Significance level.A p-value below this will lead to the null hypothesis being rejected.\n",
    "\n",
    "## Ready? Let's create some fictional data. \n",
    "\n",
    "Let's create two perfectly **normal distributions**. One with **mean** 40 and **standard deviation** (sd) 5 and one with mean 10 and standard deviation 2. \n",
    "And let's visualize at their distributions, as well as the distribution of their difference.\n"
   ]
  },
  {
   "cell_type": "code",
   "execution_count": 1,
   "metadata": {},
   "outputs": [
    {
     "name": "stderr",
     "output_type": "stream",
     "text": [
      "Loading required package: viridisLite\n",
      "\n"
     ]
    },
    {
     "data": {
      "image/png": "[encoded data removed]",
      "text/plain": [
       "plot without title"
      ]
     },
     "metadata": {
      "image/png": {
       "height": 420,
       "width": 420
      }
     },
     "output_type": "display_data"
    }
   ],
   "source": [
    "library(ggplot2)# A great library for visualization\n",
    "library(viridis)#colorblind accessible\n",
    "\n",
    "#qmr <-c(rnorm(1000, mean=10, sd=5),rnorm(1000, mean=40, sd=5))\n",
    "#qmr<-c(qmr,qmr[1001:2000]-qmr[1:1000])\n",
    "load('New_Data.RData')\n",
    "subj <- as.factor(c(rep(\"ctrl\",1000),rep(\"pat\",1000),rep(\"diff\",1000)))\n",
    "d.exp <- data.frame(qmr,subj)\n",
    "\n",
    "x_p<-d.exp[d.exp$subj=='pat',]$qmr\n",
    "bw_p <- 2 * IQR(x_p) / length(x_p)^(1/3)#decide for the nr of bins-Friedman-Diaconis rule\n",
    "x_c<-d.exp[d.exp$subj=='ctrl',]$qmr\n",
    "bw_c <- 2 * IQR(x_c) / length(x_c)^(1/3)#decide for the nr of bins-Friedman-Diaconis rule\n",
    "\n",
    "ggplot(d.exp,aes(x=qmr,fill =subj)) + \n",
    "  geom_histogram(binwidth = 1,alpha=0.5,position='identity')+scale_fill_viridis_d()\n"
   ]
  },
  {
   "cell_type": "markdown",
   "metadata": {},
   "source": [
    "## That looks clear. Doesn't it? Let's also look at the boxplot visualization.\n",
    "\n"
   ]
  },
  {
   "cell_type": "code",
   "execution_count": null,
   "metadata": {},
   "outputs": [],
   "source": [
    "library(ggplot2)# A great library for visualization\n",
    "library(viridis)\n",
    "load('New_Data.RData')\n",
    "#qmr <-c(rnorm(1000, mean=10, sd=5),rnorm(1000, mean=40, sd=5))\n",
    "#subj <- c(rep(\"ctrl\",1000),rep(\"pat\",1000),rep(\"diff\",1000))\n",
    "#d.exp <- data.frame(qmr,subj)\n",
    "x<-d.exp[d.exp$subj=='pat',]$qmr\n",
    "bw <- 2 * IQR(x) / length(x)^(1/3)#decide for the nr of bins-Friedman-Diaconis rule\n",
    "ggplot(data = d.exp,mapping = aes(y = qmr,x = subj, fill=subj)) + geom_boxplot()+scale_fill_viridis_d()\n",
    "#colorblind accessible colors\n"
   ]
  },
  {
   "cell_type": "markdown",
   "metadata": {},
   "source": [
    "## So what's next? How likely is that this difference is 0.  \n",
    "What would we get by testing whether there is a difference in these 2 distributions. \n",
    "Having all our assumptions, most of us would go for a t-test.\n"
   ]
  },
  {
   "cell_type": "code",
   "execution_count": null,
   "metadata": {},
   "outputs": [],
   "source": [
    "load('New_Data.RData')\n",
    "\n",
    "#qmr <-c(rnorm(1000, mean=10, sd=5),rnorm(1000, mean=40, sd=5))\n",
    "#subj <- c(rep(\"ctrl\",1000),rep(\"pat\",1000),rep(\"diff\",1000))\n",
    "#d.exp <- data.frame(qmr,subj)\n",
    "# Randomly choose number of samples (1000/50/25/15/5)\n",
    "\n",
    "nr_s<-4\n",
    "\n",
    "p_series<-vector()\n",
    "for (i in 1:100) {\n",
    "  sample_rows_ctrl<-sample(nrow(d.exp[d.exp$subj==\"ctrl\",]),nr_s)\n",
    "  sample_rows_pat<-1000+sample(nrow(d.exp[d.exp$subj==\"pat\",]),nr_s)\n",
    "  d.exp_sub<-rbind(d.exp[sample_rows_ctrl,],d.exp[sample_rows_pat,])\n",
    "  p_Res<-t.test(d.exp_sub[d.exp_sub$subj==\"pat\",]$qmr, d.exp_sub[d.exp_sub$subj==\"ctrl\",]$qmr, paired = FALSE,\n",
    "alternative = \"two.sided\", conf.level = 0.95,var.equal=TRUE)\n",
    "  p_series [i]<-p_Res$p.value\n",
    "}\n",
    "plot(p_series,ylim=c(0,0.06))\n",
    "abline(h=0.05)\n"
   ]
  },
  {
   "cell_type": "markdown",
   "metadata": {},
   "source": [
    "\n",
    "###So let's sum up and continue\n"
   ]
  },
  {
   "cell_type": "code",
   "execution_count": null,
   "metadata": {},
   "outputs": [],
   "source": [
    "library(ggplot2)# A great library for visualization\n",
    "library(viridis)\n",
    "library(ggpubr)\n",
    "load('New_Data_sub.RData')\n",
    "\n",
    "####### Histograms\n",
    "x_p<-d.exp_sub[d.exp_sub$subj=='pat',]$qmr\n",
    "bw_p <- 2 * IQR(x) / length(x)^(1/3)#decide for the nr of bins-Friedman-Diaconis rule\n",
    "x_c<-d.exp_sub[d.exp_sub$subj=='ctrl',]$qmr\n",
    "bw_c <- 2 * IQR(x) / length(x)^(1/3)#decide for the nr of bins-Friedman-Diaconis rule\n",
    "\n",
    "####### Histograms\n",
    "a<-ggplot(d.exp_sub,aes(x=qmr,fill =subj)) + \n",
    "  geom_histogram(binwidth = bw_p,alpha=0.5,position='identity')+scale_fill_viridis_d()\n",
    "b<-ggplot(d.exp_sub[d.exp_sub$subj==\"diff\",],aes(x=qmr,fill =subj)) + \n",
    "  geom_histogram(binwidth = bw_p,alpha=0.5,position='identity')+scale_fill_viridis_d()\n",
    "####### Boxplots\n",
    "c<-ggplot(data = d.exp_sub,mapping = aes(y = qmr,x = subj, fill=subj)) + geom_boxplot()+scale_fill_viridis_d()\n",
    "\n",
    "ggarrange(a, b,c, labels = c(\"A\",\"B\",\"C\"),\n",
    "                    ncol = 2, nrow = 2)\n",
    "#### t-test\n",
    "t.test(d.exp_sub[d.exp_sub$subj==\"pat\",]$qmr, d.exp_sub[d.exp_sub$subj==\"ctrl\",]$qmr, paired = TRUE,\n",
    "alternative = \"two.sided\", conf.level = 0.95,var.equal=TRUE)\n"
   ]
  },
  {
   "cell_type": "markdown",
   "metadata": {},
   "source": [
    "### But what if we don't have 1000 samples or 1000 representative samples?\n",
    "\n",
    "## **Trap Nr. 1**: Be real! 5 data points is not 5000\n",
    "Topic 1: The number of samples is important\n",
    "What if we have 15 samples of some less different data. Let's get them & repeat the steps\n",
    "\n",
    "p-values change but our difference is still constantly higher than 0. \n",
    "## But what if things are not so clear?\n",
    "Let's modify bring the mean values closer and increase the standard deviation.\n",
    "Keeping the assumptions for t-test we keep standard deviation the same.\n"
   ]
  },
  {
   "cell_type": "code",
   "execution_count": null,
   "metadata": {},
   "outputs": [],
   "source": [
    "library(ggplot2)# A great library for visualization\n",
    "library(viridis)\n",
    "library(ggpubr)\n",
    "library(effsize)\n",
    "# Randomly choose number of samples (1000/50/25/15/5) \n",
    "nr_s<-5#TRY TO CHANGE THIS NUMBER\n",
    "#Later you can also go ahead and modify the mean values and study the effect\n",
    "qmr <-c(rnorm(nr_s, mean=25.5, sd=10),rnorm(nr_s, mean=34.2, sd=10))\n",
    "qmr<-c(qmr,qmr[1:nr_s]-qmr[(nr_s+1):(2*nr_s)])\n",
    "subj <- c(rep('ctrl',nr_s),rep('pat',nr_s),rep(\"diff\",nr_s))\n",
    "d.exp <- data.frame(qmr,subj)\n",
    "####### Histograms\n",
    "x_p<-d.exp[d.exp$subj=='pat',]$qmr\n",
    "bw_p <- 2 * IQR(x_p) / length(x_p)^(1/3)#decide for the nr of bins-Friedman-Diaconis rule\n",
    "x_c<-d.exp[d.exp$subj=='ctrl',]$qmr\n",
    "bw_c <- 2 * IQR(x_c) / length(x_c)^(1/3)#decide for the nr of bins-Friedman-Diaconis rule\n",
    "\n",
    "####### Histograms\n",
    "a<-ggplot(d.exp,aes(x=qmr,fill =subj)) + \n",
    "  geom_histogram(binwidth = 3,alpha=0.5,position='identity')+scale_fill_viridis_d()\n",
    "b<-ggplot(d.exp[d.exp$subj==\"diff\",],aes(x=qmr,fill =subj)) + \n",
    "  geom_histogram(binwidth = 3,alpha=0.5,position='identity')+scale_fill_viridis_d()\n",
    "####### Boxplots\n",
    "c<-ggplot(data = d.exp,mapping = aes(y = qmr,x = subj, fill=subj)) + geom_boxplot()+scale_fill_viridis_d()+geom_point()\n",
    "\n",
    "ggarrange(a, b,c, labels = c(\"A\",\"B\",\"C\"),\n",
    "                    ncol = 2, nrow = 2)\n",
    "#### t-test\n",
    "t.test(d.exp[d.exp$subj==\"pat\",]$qmr, d.exp[d.exp$subj==\"ctrl\",]$qmr, paired = TRUE,\n",
    "alternative = \"two.sided\", conf.level = 0.95,var.equal=TRUE)\n",
    "\n",
    "cohen.d(d.exp[d.exp$subj==\"pat\",]$qmr, d.exp[d.exp$subj==\"ctrl\",]$qmr)\n"
   ]
  },
  {
   "cell_type": "markdown",
   "metadata": {},
   "source": [
    "\n",
    "\n"
   ]
  },
  {
   "cell_type": "code",
   "execution_count": null,
   "metadata": {},
   "outputs": [],
   "source": [
    "library(effsize)\n",
    "load('Difficult_Data.RData')\n",
    "nr_s<-5\n",
    "\n",
    "p_series<-vector()\n",
    "cohenD<-vector()\n",
    "for (i in 1:500) {\n",
    "  sample_rows_ctrl<-sample(nrow(d.exp[d.exp$subj==\"ctrl\",]),nr_s)\n",
    "  sample_rows_pat<-1000+sample(nrow(d.exp[d.exp$subj==\"pat\",]),nr_s)\n",
    "  d.exp_sub<-rbind(d.exp[sample_rows_ctrl,],d.exp[sample_rows_pat,])\n",
    "  p_Res<-t.test(d.exp_sub[d.exp_sub$subj==\"pat\",]$qmr, d.exp_sub[d.exp_sub$subj==\"ctrl\",]$qmr, paired = TRUE,\n",
    "alternative = \"two.sided\", conf.level = 0.95,var.equal=TRUE)\n",
    "  rcohen<-cohen.d(d.exp_sub[d.exp_sub$subj==\"pat\",]$qmr, d.exp_sub[d.exp_sub$subj==\"ctrl\",]$qmr)\n",
    "  p_series [i]<-p_Res$p.value\n",
    "  cohenD[i]<-rcohen$estimate\n",
    "}\n",
    "par(mfrow=c(2,2))\n",
    "plot(p_series,ylim=c(0,1))\n",
    "abline(h=0.05,col=\"red\")\n",
    "hist(p_series,breaks=30)\n",
    "abline(v=0.05,col=\"red\")\n",
    "plot(cohenD)\n"
   ]
  },
  {
   "cell_type": "markdown",
   "metadata": {},
   "source": [
    "### What can we do?\n",
    "\n",
    "Decide in advance the sample size we need! If we don' t know maybe it is an exploratory analysis after all\n",
    "\n",
    "###Clinical vs statistical significance (to the slides and back)\n",
    "\n",
    "## **Trap Nr. 2**: Step 1: Look at your data\n",
    "\n",
    "### Not all datasets are normal, t-test is not for everything!\n",
    "The same way as mean is not always the proper statistic.\n"
   ]
  },
  {
   "cell_type": "code",
   "execution_count": null,
   "metadata": {},
   "outputs": [],
   "source": [
    "library(ggplot2)# A great library for visualization\n",
    "library(viridis)\n",
    "library(ggpubr)\n",
    "library(effsize)\n",
    "# Randomly choose 50/25/15/5 samples\n",
    "nr_s<-1000\n",
    "# Generate a random negative binomial distribution\n",
    "qmr <-c(15+250*rexp(1000,25),35-250*rexp(1000,25))\n",
    "qmr<-c(qmr,qmr[1:nr_s]-qmr[(nr_s+1):(2*nr_s)])\n",
    "subj <- c(rep('ctrl',nr_s),rep('pat',nr_s),rep(\"diff\",nr_s))\n",
    "d.exp <- data.frame(qmr,subj)\n",
    "####### Histograms\n",
    "x_p<-d.exp[d.exp$subj=='pat',]$qmr\n",
    "bw_p <- 2 * IQR(x_p) / length(x_p)^(1/3)#decide for the nr of bins-Friedman-Diaconis rule\n",
    "x_c<-d.exp[d.exp$subj=='ctrl',]$qmr\n",
    "bw_c <- 2 * IQR(x_c) / length(x_c)^(1/3)#decide for the nr of bins-Friedman-Diaconis rule\n",
    "\n",
    "####### Histograms\n",
    "a<-ggplot(d.exp,aes(x=qmr,fill =subj)) + \n",
    "  geom_histogram(alpha=0.5,position='identity')+scale_fill_viridis_d()\n",
    "b<-ggplot(d.exp[d.exp$subj==\"diff\",],aes(x=qmr,fill =subj)) + \n",
    "  geom_histogram(alpha=0.5,position='identity')+scale_fill_viridis_d()\n",
    "####### Boxplots\n",
    "c<-ggplot(data = d.exp,mapping = aes(y = qmr,x = subj, fill=subj)) + geom_boxplot()+scale_fill_viridis_d()+geom_point()\n",
    "\n",
    "ggarrange(a, b,c, labels = c(\"A\",\"B\",\"C\"),\n",
    "                    ncol = 2, nrow = 2)\n",
    "#### t-test\n",
    "t.test(d.exp[d.exp$subj==\"pat\",]$qmr, d.exp[d.exp$subj==\"ctrl\",]$qmr, paired = TRUE,\n",
    "alternative = \"two.sided\", conf.level = 0.95)\n",
    "wilcox.test(d.exp[d.exp$subj==\"pat\",]$qmr, d.exp[d.exp$subj==\"ctrl\",]$qmr, paired = TRUE,alternative = \"two.sided\")\n"
   ]
  },
  {
   "cell_type": "markdown",
   "metadata": {},
   "source": [
    "\n",
    "\n"
   ]
  },
  {
   "cell_type": "code",
   "execution_count": null,
   "metadata": {},
   "outputs": [],
   "source": [
    "library(ggplot2)# A great library for visualization\n",
    "library(viridis)\n",
    "library(ggpubr)\n",
    "library(effsize)\n",
    "# Randomly choose number of samples (1000/50/25/15/5) \n",
    "nr_s<-10\n",
    "#Later you can also go ahead and modify the mean values and study the effect\n",
    "qmr <-c(rnorm(nr_s, mean=25, sd=8),rnorm(nr_s, mean=35, sd=8))\n",
    "qmr<-c(qmr,qmr[1:nr_s]-qmr[(nr_s+1):(2*nr_s)])\n",
    "subj <- c(rep('ctrl',nr_s),rep('pat',nr_s),rep(\"diff\",nr_s))\n",
    "d.exp <- data.frame(qmr,subj)\n",
    "####### Histograms\n",
    "x_p<-d.exp[d.exp$subj=='pat',]$qmr\n",
    "bw_p <- 2 * IQR(x_p) / length(x_p)^(1/3)#decide for the nr of bins-Friedman-Diaconis rule\n",
    "x_c<-d.exp[d.exp$subj=='ctrl',]$qmr\n",
    "bw_c <- 2 * IQR(x_c) / length(x_c)^(1/3)#decide for the nr of bins-Friedman-Diaconis rule\n",
    "\n",
    "####### Histograms\n",
    "a<-ggplot(d.exp,aes(x=qmr,fill =subj)) + \n",
    "  geom_histogram(binwidth = 3,alpha=0.5,position='identity')+scale_fill_viridis_d()\n",
    "b<-ggplot(d.exp[d.exp$subj==\"diff\",],aes(x=qmr,fill =subj)) + \n",
    "  geom_histogram(binwidth = 3,alpha=0.5,position='identity')+scale_fill_viridis_d()\n",
    "####### Boxplots\n",
    "c<-ggplot(data = d.exp,mapping = aes(y = qmr,x = subj, fill=subj)) + geom_boxplot()+scale_fill_viridis_d()+geom_point()\n",
    "\n",
    "ggarrange(a, b,c, labels = c(\"A\",\"B\",\"C\"),\n",
    "                    ncol = 2, nrow = 2)\n",
    "#### t-test\n",
    "t.test(d.exp[d.exp$subj==\"pat\",]$qmr, d.exp[d.exp$subj==\"ctrl\",]$qmr, paired = TRUE,\n",
    "alternative = \"two.sided\", conf.level = 0.95,var.equal=TRUE)\n",
    "\n",
    "cohen.d(d.exp[d.exp$subj==\"pat\",]$qmr, d.exp[d.exp$subj==\"ctrl\",]$qmr)\n"
   ]
  },
  {
   "cell_type": "markdown",
   "metadata": {},
   "source": [
    "\n"
   ]
  },
  {
   "cell_type": "code",
   "execution_count": null,
   "metadata": {},
   "outputs": [],
   "source": [
    "load('Not_normal_Distr.RData')\n",
    "nr_s<-4\n",
    "\n",
    "p_series<-vector()\n",
    "cohenD<-vector()\n",
    "for (i in 1:500) {\n",
    "  sample_rows_ctrl<-sample(nrow(d.exp[d.exp$subj==\"ctrl\",]),nr_s)\n",
    "  sample_rows_pat<-1000+sample(nrow(d.exp[d.exp$subj==\"pat\",]),nr_s)\n",
    "  d.exp_sub<-rbind(d.exp[sample_rows_ctrl,],d.exp[sample_rows_pat,])\n",
    "  p_Res<-t.test(d.exp_sub[d.exp_sub$subj==\"pat\",]$qmr, d.exp_sub[d.exp_sub$subj==\"ctrl\",]$qmr, paired = FALSE,\n",
    "alternative = \"two.sided\", conf.level = 0.95,var.equal=FALSE)\n",
    "  rcohen<-cohen.d(d.exp_sub[d.exp_sub$subj==\"pat\",]$qmr, d.exp_sub[d.exp_sub$subj==\"ctrl\",]$qmr)\n",
    "  p_series [i]<-p_Res$p.value\n",
    "  cohenD[i]<-rcohen$estimate\n",
    "}\n",
    "par(mfrow=c(2,2))\n",
    "plot(p_series,ylim=c(0,1))\n",
    "abline(h=0.05,col=\"red\")\n",
    "hist(p_series,breaks=30)\n",
    "abline(v=0.05,col=\"red\")\n",
    "plot(cohenD)\n"
   ]
  },
  {
   "cell_type": "markdown",
   "metadata": {},
   "source": [
    "### Trap 3: Just one more experiment then!It almost looks good. Let's repeat it. Trap of adding data on marginal distributions. \n"
   ]
  },
  {
   "cell_type": "code",
   "execution_count": null,
   "metadata": {},
   "outputs": [],
   "source": [
    "load('Adding_values.RData')\n",
    "d.extra<-d.exp_s\n",
    "\n",
    "d.exp_w_Points<-rbind(d.exp_limit,data.frame(qmr=18,subj=\"ctrl\"),data.frame(qmr=40,subj=\"pat\"))\n",
    "\n",
    "a<-ggplot(d.exp_w_Points,aes(x=qmr,fill =subj)) + \n",
    "  geom_histogram(binwidth = 3,alpha=0.5,position='identity')+scale_fill_viridis_d()\n",
    "b<-ggplot(d.exp_w_Points[d.exp_w_Points$subj==\"diff\",],aes(x=qmr,fill =subj)) + \n",
    "  geom_histogram(binwidth = 3,alpha=0.5,position='identity')+scale_fill_viridis_d()\n",
    "####### Boxplots\n",
    "c<-ggplot(data =d.exp_w_Points,mapping = aes(y = qmr,x = subj, fill=subj)) + geom_boxplot()+scale_fill_viridis_d()+geom_point()\n",
    "\n",
    "d<-ggplot(data =d.exp_limit,mapping = aes(y = qmr,x = subj, fill=subj)) + geom_boxplot()+scale_fill_viridis_d()+geom_point()\n",
    "\n",
    "ggarrange(a, b,c, d,labels = c(\"A\",\"B\",\"C\",\"D\"),\n",
    "                    ncol = 2, nrow = 2)\n",
    "\n",
    "res_w_Points<-t.test(d.exp_w_Points[d.exp_w_Points$subj==\"pat\",]$qmr, d.exp_w_Points[d.exp_w_Points$subj==\"ctrl\",]$qmr, paired = TRUE,\n",
    "alternative = \"two.sided\", conf.level = 0.95,var.equal=TRUE)\n",
    "res_wo_Points<-t.test(d.exp_limit[d.exp_limit$subj==\"pat\",]$qmr, d.exp_limit[d.exp_limit$subj==\"ctrl\",]$qmr, paired = TRUE,\n",
    "alternative = \"two.sided\", conf.level = 0.95,var.equal=TRUE)\n"
   ]
  },
  {
   "cell_type": "markdown",
   "metadata": {},
   "source": [
    "## **Trap Nr. 3**: This one looks wrong. Let's remove it\n",
    "##TO DO:post-hoc data selection, Keep adjusting the data collection removing outliers, 1) use different threshold, 2) remove outliers and test till you get you result\n"
   ]
  },
  {
   "cell_type": "code",
   "execution_count": null,
   "metadata": {},
   "outputs": [],
   "source": [
    "load('Removing_values.RData')\n",
    "a<-ggplot(d.exp_w_Outl,aes(x=qmr,fill =subj)) + \n",
    "  geom_histogram(binwidth = 3,alpha=0.5,position='identity')+scale_fill_viridis_d()\n",
    "b<-ggplot(d.exp_w_Outl[d.exp_w_Outl$subj==\"diff\",],aes(x=qmr,fill =subj)) + \n",
    "  geom_histogram(binwidth = 3,alpha=0.5,position='identity')+scale_fill_viridis_d()\n",
    "####### Boxplots\n",
    "c<-ggplot(data =d.exp_w_Outl,mapping = aes(y = qmr,x = subj, fill=subj)) + geom_boxplot()+scale_fill_viridis_d()+geom_point()\n",
    "\n",
    "d<-ggplot(data =d.exp,mapping = aes(y = qmr,x = subj, fill=subj)) + geom_boxplot()+scale_fill_viridis_d()+geom_point()\n",
    "\n",
    "ggarrange(a, b,c, d,labels = c(\"A\",\"B\",\"C\",\"D\"),\n",
    "                    ncol = 2, nrow = 2)\n",
    "\n",
    "d.extra<-d.exp_w_Outl\n",
    "\n",
    "#t.test(d.exp_limit[d.exp_limit$subj==\"pat\",]$qmr, d.exp_limit[d.exp_limit$subj==\"ctrl\",]$qmr, paired = TRUE,\n",
    "#alternative = \"two.sided\", conf.level = 0.95,var.equal=TRUE)\n",
    " \n",
    "res_wo_Outlier<-t.test(d.exp[d.exp$subj==\"pat\",]$qmr, d.exp[d.exp$subj==\"ctrl\",]$qmr, paired = FALSE,\n",
    "alternative = \"two.sided\", conf.level = 0.95,var.equal=TRUE)\n",
    "\n",
    "res_w_Outlier<-t.test(d.exp_w_Outl[d.exp_w_Outl$subj==\"pat\",]$qmr, d.exp_w_Outl[d.exp_w_Outl$subj==\"ctrl\",]$qmr, paired = TRUE,\n",
    "alternative = \"two.sided\", conf.level = 0.95,var.equal=TRUE)\n"
   ]
  },
  {
   "cell_type": "markdown",
   "metadata": {},
   "source": [
    "## **Trap Nr. 4**: Problem of repeated sequential testing\n",
    "### Bonferroni and other corrections\n"
   ]
  },
  {
   "cell_type": "code",
   "execution_count": null,
   "metadata": {},
   "outputs": [],
   "source": [
    "library(ggplot2)# A great library for visualization\n",
    "library(viridis)#For the colormap\n",
    "library(ggpubr)#For multiple subplots in ggplot\n",
    "library(effsize)\n",
    "# Randomly choose number of samples (1000/50/25/15/5) \n",
    "#nr_s<-15\n",
    "#sample_rows<-sample(nrow(iris),nr_s)\n",
    "#d.subiris<-iris[sample_rows,]\n",
    "load('Subiris.RData')\n",
    "#Later you can also go ahead and modify all values and study the effect\n",
    "#Let's assume I measured 8 different parameters\n",
    "#Here we will use a default r dataset\n",
    "library(datasets)\n",
    "data(\"iris\")\n",
    "summary(iris)\n",
    "\n",
    "### Boxplots\n",
    "a<-ggplot(data = d.subiris,mapping = aes(y = Sepal.Length,x = Species, fill=Species)) + geom_boxplot()+scale_fill_viridis_d()+geom_point()\n",
    "b<-ggplot(data = d.subiris,mapping = aes(y = Sepal.Width,x = Species, fill=Species)) + geom_boxplot()+scale_fill_viridis_d()+geom_point()\n",
    "c<-ggplot(data = d.subiris,mapping = aes(y = Petal.Length,x = Species, fill= Species)) + geom_boxplot()+scale_fill_viridis_d()+geom_point()\n",
    "d<-ggplot(data = d.subiris,mapping = aes(y = Petal.Width,x = Species, fill=Species)) + geom_boxplot()+scale_fill_viridis_d()+geom_point()\n",
    "#######\n",
    "ggarrange(a,b,c,d, labels = c(\"A\",\"B\",\"C\",\"D\"),\n",
    "          ncol = 2, nrow = 2)\n",
    "#cohen.d(d.exp[d.exp$subj==\"pat\",]$qmr, d.exp[d.exp$subj==\"ctrl\",]$qmr)\n"
   ]
  },
  {
   "cell_type": "markdown",
   "metadata": {},
   "source": [
    "\n",
    "\n"
   ]
  },
  {
   "cell_type": "code",
   "execution_count": null,
   "metadata": {},
   "outputs": [],
   "source": [
    "load('Subiris.RData')\n",
    "#### t-test\n",
    "#res.1<-t.test(d.subiris[d.subiris$Species==\"setosa\",]$Petal.Length, d.subiris[d.subiris$Species==\"versicolor\",]$Petal.Length, paired = FALSE,\n",
    "#alternative = \"two.sided\", conf.level = 0.95,var.equal=FALSE)\n",
    "#res.2<-t.test(d.subiris[d.subiris$Species==\"setosa\",]$Petal.Width, d.subiris[d.subiris$Species==\"versicolor\",]$Petal.Width, paired = FALSE,\n",
    "#alternative = \"two.sided\", conf.level = 0.95,var.equal=FALSE)\n",
    "#res.3<-t.test(d.subiris[d.subiris$Species==\"setosa\",]$Sepal.Width, d.subiris[d.subiris$Species==\"versicolor\",]$Sepal.Width, paired = FALSE,\n",
    "#alternative = \"two.sided\", conf.level = 0.95,var.equal=FALSE)\n",
    "#res.4<-t.test(d.subiris[d.subiris$Species==\"setosa\",]$Sepal.Length, d.subiris[d.subiris$Species==\"versicolor\",]$Sepal.Width, paired = FALSE,\n",
    "#alternative = \"two.sided\", conf.level = 0.95,var.equal=FALSE)\n",
    "#res.5<-t.test(d.subiris[d.subiris$Species==\"setosa\",]$Sepal.Length, d.subiris[d.subiris$Species==\"virginica\",]$Sepal.Width,paired=FALSE,\n",
    "#alternative = \"two.sided\", conf.level = 0.95,var.equal=FALSE)\n",
    "#res.6<-t.test(d.subiris[d.subiris$Species==\"setosa\",]$Sepal.Length, d.subiris[d.subiris$Species==\"virginica\",]$Sepal.Width, paired = FALSE,\n",
    "#alternative = \"two.sided\", conf.level = 0.95,var.equal=FALSE)\n",
    "#res.7<-t.test(d.subiris[d.subiris$Species==\"setosa\",]$Sepal.Length, d.subiris[d.subiris$Species==\"virginica\",]$Sepal.Width, paired = FALSE,\n",
    "#alternative = \"two.sided\", conf.level = 0.95,var.equal=FALSE)\n",
    "#res.8<-t.test(d.subiris[d.subiris$Species==\"setosa\",]$Sepal.Length, d.subiris[d.subiris$Species==\"virginica\",]$Sepal.Width, paired = FALSE,\n",
    "#alternative = \"two.sided\", conf.level = 0.95,var.equal=FALSE)\n",
    "#res.9<-t.test(d.subiris[d.subiris$Species==\"versicolor\",]$Sepal.Length, d.subiris[d.subiris$Species==\"virginica\",]$Sepal.Width, paired = FALSE,\n",
    "#alternative = \"two.sided\", conf.level = 0.95,var.equal=FALSE)\n",
    "#res.10<-t.test(d.subiris[d.subiris$Species==\"versicolor\",]$Sepal.Length, d.subiris[d.subiris$Species==\"virginica\",]$Sepal.Width, paired = FALSE,\n",
    "#alternative = \"two.sided\", conf.level = 0.95,var.equal=FALSE)\n",
    "#res.11<-t.test(d.subiris[d.subiris$Species==\"versicolor\",]$Sepal.Length, d.subiris[d.subiris$Species==\"virginica\",]$Sepal.Width, paired = FALSE,\n",
    "#alternative = \"two.sided\", conf.level = 0.95,var.equal=FALSE)\n",
    "#res.12<-t.test(d.subiris[d.subiris$Species==\"versicolor\",]$Sepal.Length, d.subiris[d.subiris$Species==\"virginica\",]$Sepal.Width, paired = FALSE,\n",
    "#alternative = \"two.sided\", conf.level = 0.95,var.equal=FALSE)\n",
    "p_no_corr<-(c(res.1$p.value,res.2$p.value,res.3$p.value,res.4$p.value,res.5$p.value,res.6$p.value,res.7$p.value,res.8$p.value,res.9$p.value,res.10$p.value,res.11$p.value,res.12$p.value))\n",
    "p_adjusted<-p.adjust(p_no_corr, method = \"bonferroni\", n = length(p_no_corr))\n",
    "\n",
    "plot(p_no_corr,ylim=c(0,1.2))\n",
    "lines(p_adjusted,lty=2)\n"
   ]
  },
  {
   "cell_type": "markdown",
   "metadata": {},
   "source": [
    "## **Trap Nr. 5**: TODO POST HOC hypothesis\n",
    "### Be ware of one-sided tests,\n",
    "\n",
    "###Check the assumptions: (different variation, reaching normality)\n"
   ]
  },
  {
   "cell_type": "code",
   "execution_count": null,
   "metadata": {},
   "outputs": [],
   "source": [
    "load('Adding_values.RData')\n",
    "res1<-t.test(d.exp_limit[d.exp_limit$subj==\"pat\",]$qmr, d.exp_limit[d.exp_limit$subj==\"ctrl\",]$qmr, paired = TRUE,\n",
    "alternative = \"two.sided\", conf.level = 0.95,var.equal=TRUE)\n",
    "res2<-t.test(d.exp_limit[d.exp_limit$subj==\"pat\",]$qmr, d.exp_limit[d.exp_limit$subj==\"ctrl\",]$qmr, paired = TRUE,\n",
    "alternative = \"less\", conf.level = 0.95,var.equal=TRUE)\n",
    "res3<-t.test(d.exp_limit[d.exp_limit$subj==\"pat\",]$qmr, d.exp_limit[d.exp_limit$subj==\"ctrl\",]$qmr, paired = TRUE,\n",
    "alternative = \"greater\", conf.level = 0.95,var.equal=TRUE)\n",
    "\n",
    "c(res1$p.value,res2$p.value,res3$p.value)\n"
   ]
  },
  {
   "cell_type": "markdown",
   "metadata": {},
   "source": [
    "##References\n",
    "https://www.youtube.com/watch?v=HDCOUXE3HMM\n",
    "Cambell book             \n",
    "##how to hack tutorial nicolas\n"
   ]
  },
  {
   "cell_type": "code",
   "execution_count": null,
   "metadata": {},
   "outputs": [],
   "source": [
    "## set global chunk options: all images will be 7x5 inches\n",
    "knitr::opts_chunk$set(fig.width = 7, fig.height = 5)\n",
    "options(digits = 4)\n"
   ]
  },
  {
   "cell_type": "markdown",
   "metadata": {},
   "source": [
    "I encourage you to watch:\n",
    "The dance of p-values: https://www.youtube.com/watch?v=5OL1RqHrZQ8\n",
    "by Geoff Cumming who is also a presenter\n"
   ]
  }
 ],
 "metadata": {
  "anaconda-cloud": "",
  "kernelspec": {
   "display_name": "R",
   "language": "R",
   "name": "ir"
  },
  "language_info": {
   "codemirror_mode": "r",
   "file_extension": ".r",
   "mimetype": "text/x-r-source",
   "name": "R",
   "pygments_lexer": "r",
   "version": "4.1.2"
  }
 },
 "nbformat": 4,
 "nbformat_minor": 1
}
